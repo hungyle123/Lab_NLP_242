{
 "cells": [
  {
   "cell_type": "markdown",
   "id": "8f5b586a",
   "metadata": {
    "papermill": {
     "duration": 0.003786,
     "end_time": "2025-03-25T16:13:54.247027",
     "exception": false,
     "start_time": "2025-03-25T16:13:54.243241",
     "status": "completed"
    },
    "tags": []
   },
   "source": [
    "# Home Exercise 1 on Text Classification\n",
    "- Implement a Recurrent Neural Network model (Vanilla RNN, GRU, and LSTM) to predict whether a review is positive or negative.\n",
    "\n",
    "- Data: IMDB Dataset of 50K Movie Reviews (the last 10% of rows serve as the test set).\n",
    "\n",
    "\n",
    "- Compare the performance of the three models."
   ]
  },
  {
   "cell_type": "markdown",
   "id": "afdf5b35",
   "metadata": {
    "papermill": {
     "duration": 0.002753,
     "end_time": "2025-03-25T16:13:54.253003",
     "exception": false,
     "start_time": "2025-03-25T16:13:54.250250",
     "status": "completed"
    },
    "tags": []
   },
   "source": [
    "# Library import and using pytorch framework"
   ]
  },
  {
   "cell_type": "code",
   "execution_count": 1,
   "id": "116df002",
   "metadata": {
    "execution": {
     "iopub.execute_input": "2025-03-25T16:13:54.260177Z",
     "iopub.status.busy": "2025-03-25T16:13:54.259871Z",
     "iopub.status.idle": "2025-03-25T16:13:59.677098Z",
     "shell.execute_reply": "2025-03-25T16:13:59.676123Z"
    },
    "papermill": {
     "duration": 5.42293,
     "end_time": "2025-03-25T16:13:59.678828",
     "exception": false,
     "start_time": "2025-03-25T16:13:54.255898",
     "status": "completed"
    },
    "tags": []
   },
   "outputs": [],
   "source": [
    "import numpy as np\n",
    "import pandas as pd\n",
    "import torch\n",
    "import torch.nn as nn\n",
    "import torch.optim as optim\n",
    "from torch.utils.data import Dataset, DataLoader, TensorDataset\n",
    "from sklearn.metrics import accuracy_score, classification_report, confusion_matrix\n",
    "import matplotlib.pyplot as plt\n",
    "import seaborn as sns\n",
    "import time\n",
    "import re\n",
    "from tqdm import tqdm\n",
    "\n",
    "# Set random seed for reproducibility\n",
    "np.random.seed(42)\n",
    "torch.manual_seed(42)\n",
    "if torch.cuda.is_available():\n",
    "    torch.cuda.manual_seed_all(42)\n"
   ]
  },
  {
   "cell_type": "markdown",
   "id": "f11ce425",
   "metadata": {
    "papermill": {
     "duration": 0.002869,
     "end_time": "2025-03-25T16:13:59.685113",
     "exception": false,
     "start_time": "2025-03-25T16:13:59.682244",
     "status": "completed"
    },
    "tags": []
   },
   "source": [
    "# Data downloading"
   ]
  },
  {
   "cell_type": "code",
   "execution_count": 2,
   "id": "600b9f05",
   "metadata": {
    "execution": {
     "iopub.execute_input": "2025-03-25T16:13:59.692253Z",
     "iopub.status.busy": "2025-03-25T16:13:59.691842Z",
     "iopub.status.idle": "2025-03-25T16:14:05.172663Z",
     "shell.execute_reply": "2025-03-25T16:14:05.171525Z"
    },
    "papermill": {
     "duration": 5.486151,
     "end_time": "2025-03-25T16:14:05.174238",
     "exception": false,
     "start_time": "2025-03-25T16:13:59.688087",
     "status": "completed"
    },
    "tags": []
   },
   "outputs": [
    {
     "name": "stdout",
     "output_type": "stream",
     "text": [
      "Downloading...\r\n",
      "From (original): https://drive.google.com/uc?id=1Rd2BwBSoh7BW9YpMj3wG5hmWjWH7MdPC\r\n",
      "From (redirected): https://drive.google.com/uc?id=1Rd2BwBSoh7BW9YpMj3wG5hmWjWH7MdPC&confirm=t&uuid=f4c1d58e-eb7f-4f88-99b2-f25ab08141e6\r\n",
      "To: /kaggle/working/imdb.zip\r\n",
      "100%|███████████████████████████████████████| 27.0M/27.0M [00:00<00:00, 178MB/s]\r\n",
      "Archive:  imdb.zip\r\n",
      "  inflating: IMDB Dataset.csv        \r\n"
     ]
    }
   ],
   "source": [
    "!gdown 1Rd2BwBSoh7BW9YpMj3wG5hmWjWH7MdPC -O imdb.zip\n",
    "!unzip imdb.zip \"IMDB Dataset\".csv"
   ]
  },
  {
   "cell_type": "code",
   "execution_count": 3,
   "id": "bd1201fe",
   "metadata": {
    "execution": {
     "iopub.execute_input": "2025-03-25T16:14:05.182172Z",
     "iopub.status.busy": "2025-03-25T16:14:05.181914Z",
     "iopub.status.idle": "2025-03-25T16:14:05.823606Z",
     "shell.execute_reply": "2025-03-25T16:14:05.822416Z"
    },
    "papermill": {
     "duration": 0.647182,
     "end_time": "2025-03-25T16:14:05.825106",
     "exception": false,
     "start_time": "2025-03-25T16:14:05.177924",
     "status": "completed"
    },
    "tags": []
   },
   "outputs": [
    {
     "name": "stdout",
     "output_type": "stream",
     "text": [
      "Loading IMDB dataset from CSV...\n",
      "Dataset shape: (50000, 2)\n",
      "                                              review sentiment\n",
      "0  One of the other reviewers has mentioned that ...  positive\n",
      "1  A wonderful little production. <br /><br />The...  positive\n",
      "2  I thought this was a wonderful way to spend ti...  positive\n",
      "3  Basically there's a family where a little boy ...  negative\n",
      "4  Petter Mattei's \"Love in the Time of Money\" is...  positive\n",
      "Training set size: 45000\n",
      "Test set size: 5000\n"
     ]
    }
   ],
   "source": [
    "# Load IMDB dataset from Kaggle CSV file\n",
    "def load_imdb_dataset():\n",
    "\n",
    "    \n",
    "    # For Kaggle, assuming the dataset is already available in the input folder\n",
    "    print(\"Loading IMDB dataset from CSV...\")\n",
    "    \n",
    "    # Load the dataset\n",
    "    df = pd.read_csv('IMDB Dataset.csv')\n",
    "    \n",
    "    # Display sample data\n",
    "    print(f\"Dataset shape: {df.shape}\")\n",
    "    print(df.head())\n",
    "    \n",
    "    # Map sentiment to binary labels\n",
    "    df['sentiment'] = df['sentiment'].map({'positive': 1, 'negative': 0})\n",
    "    \n",
    "    # Split into train (90%) and test (10%) - using the LAST 10% for test as specified\n",
    "    total_rows = len(df)\n",
    "    test_size = int(total_rows * 0.1)\n",
    "    \n",
    "    # Get the first 90% for training\n",
    "    train_df = df.iloc[:-test_size]\n",
    "    \n",
    "    # Get the last 10% for testing\n",
    "    test_df = df.iloc[-test_size:]\n",
    "    \n",
    "    print(f\"Training set size: {len(train_df)}\")\n",
    "    print(f\"Test set size: {len(test_df)}\")\n",
    "    \n",
    "    # Extract texts and labels\n",
    "    train_texts = train_df['review'].values\n",
    "    train_labels = train_df['sentiment'].values\n",
    "    test_texts = test_df['review'].values\n",
    "    test_labels = test_df['sentiment'].values\n",
    "    \n",
    "    return train_texts, train_labels, test_texts, test_labels\n",
    "\n",
    "# Load data\n",
    "train_texts, train_labels, test_texts, test_labels = load_imdb_dataset()"
   ]
  },
  {
   "cell_type": "markdown",
   "id": "88b935ba",
   "metadata": {
    "papermill": {
     "duration": 0.003579,
     "end_time": "2025-03-25T16:14:05.832817",
     "exception": false,
     "start_time": "2025-03-25T16:14:05.829238",
     "status": "completed"
    },
    "tags": []
   },
   "source": [
    "# Preprocessing data"
   ]
  },
  {
   "cell_type": "code",
   "execution_count": 4,
   "id": "2cc5ab60",
   "metadata": {
    "execution": {
     "iopub.execute_input": "2025-03-25T16:14:05.840874Z",
     "iopub.status.busy": "2025-03-25T16:14:05.840465Z",
     "iopub.status.idle": "2025-03-25T16:14:19.335959Z",
     "shell.execute_reply": "2025-03-25T16:14:19.334947Z"
    },
    "papermill": {
     "duration": 13.500968,
     "end_time": "2025-03-25T16:14:19.337335",
     "exception": false,
     "start_time": "2025-03-25T16:14:05.836367",
     "status": "completed"
    },
    "tags": []
   },
   "outputs": [
    {
     "name": "stdout",
     "output_type": "stream",
     "text": [
      "\n",
      "Preprocessing data with max sequence length of 200...\n",
      "Vocabulary size: 10000\n"
     ]
    }
   ],
   "source": [
    "# Clean and preprocess text\n",
    "def clean_text(text):\n",
    "    # Convert to lowercase\n",
    "    text = text.lower()\n",
    "    \n",
    "    # Remove HTML tags\n",
    "    text = re.sub(r'<.*?>', '', text)\n",
    "    \n",
    "    # Remove special characters and numbers\n",
    "    text = re.sub(r'[^a-zA-Z\\s]', '', text)\n",
    "    \n",
    "    # Remove extra whitespaces\n",
    "    text = re.sub(r'\\s+', ' ', text).strip()\n",
    "    \n",
    "    return text\n",
    "\n",
    "# PyTorch tokenizer implementation to replace Keras Tokenizer\n",
    "class SimpleTokenizer:\n",
    "    def __init__(self, num_words=None, oov_token='<OOV>'):\n",
    "        self.num_words = num_words\n",
    "        self.oov_token = oov_token\n",
    "        self.word_index = {}\n",
    "        self.index_word = {}\n",
    "        self.word_counts = {}\n",
    "        self.word_docs = {}\n",
    "        self.document_count = 0\n",
    "        \n",
    "    def fit_on_texts(self, texts):\n",
    "        # Count words\n",
    "        for text in texts:\n",
    "            self.document_count += 1\n",
    "            words = text.split()\n",
    "            for word in words:\n",
    "                if word in self.word_counts:\n",
    "                    self.word_counts[word] += 1\n",
    "                else:\n",
    "                    self.word_counts[word] = 1\n",
    "                \n",
    "                if word in self.word_docs:\n",
    "                    self.word_docs[word] += 1\n",
    "                else:\n",
    "                    self.word_docs[word] = 1\n",
    "        \n",
    "        # Sort words by frequency\n",
    "        sorted_words = sorted(self.word_counts.items(), key=lambda x: x[1], reverse=True)\n",
    "        \n",
    "        # Create word_index\n",
    "        self.word_index = {self.oov_token: 1}  # 0 reserved for padding\n",
    "        idx = 2\n",
    "        for word, count in sorted_words:\n",
    "            if self.num_words and idx >= self.num_words:\n",
    "                break\n",
    "            self.word_index[word] = idx\n",
    "            self.index_word[idx] = word\n",
    "            idx += 1\n",
    "    \n",
    "    def texts_to_sequences(self, texts):\n",
    "        sequences = []\n",
    "        for text in texts:\n",
    "            words = text.split()\n",
    "            seq = []\n",
    "            for word in words:\n",
    "                if word in self.word_index:\n",
    "                    seq.append(self.word_index[word])\n",
    "                else:\n",
    "                    seq.append(self.word_index[self.oov_token])\n",
    "            sequences.append(seq)\n",
    "        return sequences\n",
    "\n",
    "# Pad sequences function\n",
    "def pad_sequences(sequences, maxlen=None, padding='post'):\n",
    "    if maxlen is None:\n",
    "        maxlen = max(len(seq) for seq in sequences)\n",
    "    \n",
    "    padded_sequences = []\n",
    "    for seq in sequences:\n",
    "        if len(seq) > maxlen:\n",
    "            padded_seq = seq[:maxlen]\n",
    "        else:\n",
    "            padded_seq = seq + [0] * (maxlen - len(seq)) if padding == 'post' else [0] * (maxlen - len(seq)) + seq\n",
    "        padded_sequences.append(padded_seq)\n",
    "    \n",
    "    return np.array(padded_sequences)\n",
    "\n",
    "# Preprocess the data\n",
    "def preprocess_data(train_texts, train_labels, test_texts, test_labels, max_features=10000, max_len=200):\n",
    "    # Clean texts\n",
    "    train_texts = [clean_text(text) for text in train_texts]\n",
    "    test_texts = [clean_text(text) for text in test_texts]\n",
    "    \n",
    "    # Tokenize texts\n",
    "    tokenizer = SimpleTokenizer(num_words=max_features, oov_token='<OOV>')\n",
    "    tokenizer.fit_on_texts(train_texts)\n",
    "    \n",
    "    # Convert texts to sequences\n",
    "    x_train = tokenizer.texts_to_sequences(train_texts)\n",
    "    x_test = tokenizer.texts_to_sequences(test_texts)\n",
    "    \n",
    "    # Pad sequences\n",
    "    x_train = pad_sequences(x_train, maxlen=max_len, padding='post')\n",
    "    x_test = pad_sequences(x_test, maxlen=max_len, padding='post')\n",
    "    \n",
    "    # Get vocabulary size\n",
    "    vocab_size = min(max_features, len(tokenizer.word_index) + 1)\n",
    "    print(f\"Vocabulary size: {vocab_size}\")\n",
    "    \n",
    "    # Convert to PyTorch tensors\n",
    "    x_train = torch.LongTensor(x_train)\n",
    "    y_train = torch.FloatTensor(train_labels)\n",
    "    x_test = torch.LongTensor(x_test)\n",
    "    y_test = torch.FloatTensor(test_labels)\n",
    "    \n",
    "    return x_train, y_train, x_test, y_test, vocab_size\n",
    "\n",
    "\n",
    "# Preprocess data\n",
    "max_features = 10000  # Maximum number of words in vocabulary\n",
    "max_len = 200  # Maximum sequence length\n",
    "\n",
    "print(f\"\\nPreprocessing data with max sequence length of {max_len}...\")\n",
    "x_train, y_train, x_test, y_test, vocab_size = preprocess_data(\n",
    "    train_texts, train_labels, test_texts, test_labels, max_features, max_len\n",
    ")"
   ]
  },
  {
   "cell_type": "markdown",
   "id": "f291f1ad",
   "metadata": {
    "papermill": {
     "duration": 0.003403,
     "end_time": "2025-03-25T16:14:19.344575",
     "exception": false,
     "start_time": "2025-03-25T16:14:19.341172",
     "status": "completed"
    },
    "tags": []
   },
   "source": [
    "# Model define"
   ]
  },
  {
   "cell_type": "code",
   "execution_count": 5,
   "id": "5c808b37",
   "metadata": {
    "execution": {
     "iopub.execute_input": "2025-03-25T16:14:19.352303Z",
     "iopub.status.busy": "2025-03-25T16:14:19.352047Z",
     "iopub.status.idle": "2025-03-25T16:14:19.362257Z",
     "shell.execute_reply": "2025-03-25T16:14:19.361430Z"
    },
    "papermill": {
     "duration": 0.015523,
     "end_time": "2025-03-25T16:14:19.363519",
     "exception": false,
     "start_time": "2025-03-25T16:14:19.347996",
     "status": "completed"
    },
    "tags": []
   },
   "outputs": [],
   "source": [
    "# PyTorch models using Sequential API\n",
    "class VanillaRNN(nn.Module):\n",
    "    def __init__(self, vocab_size, embedding_dim=128, hidden_units=128, num_layers=1, dropout=0.5):\n",
    "        super(VanillaRNN, self).__init__()\n",
    "        self.embedding = nn.Embedding(vocab_size, embedding_dim)\n",
    "        self.rnn = nn.RNN(embedding_dim, hidden_units, batch_first=True, num_layers=num_layers)\n",
    "        self.dropout = nn.Dropout(dropout)\n",
    "        self.fc = nn.Linear(hidden_units, 1)\n",
    "        self.sigmoid = nn.Sigmoid()\n",
    "\n",
    "    def forward(self, x):\n",
    "        x = self.embedding(x)\n",
    "        output, _ = self.rnn(x)\n",
    "        output = output[:, -1, :]  # Get last timestep output\n",
    "        output = self.dropout(output)\n",
    "        output = self.fc(output)\n",
    "        return self.sigmoid(output.squeeze())\n",
    "\n",
    "class LSTMModel(nn.Module):\n",
    "    def __init__(self, vocab_size, embedding_dim=128, hidden_units=128, num_layers=2, dropout=0.5):\n",
    "        super(LSTMModel, self).__init__()\n",
    "        self.embedding = nn.Embedding(vocab_size, embedding_dim)\n",
    "        self.embedding_norm = nn.LayerNorm(embedding_dim)  # LayerNorm sau Embedding\n",
    "        self.lstm = nn.LSTM(embedding_dim, hidden_units, num_layers=num_layers, batch_first=True, dropout=dropout if num_layers > 1 else 0)\n",
    "        self.lstm_norm = nn.LayerNorm(hidden_units)  # LayerNorm sau LSTM\n",
    "        self.dropout = nn.Dropout(dropout)\n",
    "        self.fc = nn.Linear(hidden_units, 1)\n",
    "        self.sigmoid = nn.Sigmoid()\n",
    "        \n",
    "    def forward(self, x):\n",
    "        x = self.embedding(x)  # Embedding layer\n",
    "        x = self.embedding_norm(x)  # LayerNorm sau Embedding\n",
    "        output, _ = self.lstm(x)  # LSTM layer\n",
    "        output = self.lstm_norm(output[:, -1, :])  # LayerNorm sau LSTM (lấy output cuối cùng)\n",
    "        output = self.dropout(output)  # Dropout\n",
    "        output = self.fc(output)  # Fully connected layer\n",
    "        output = self.sigmoid(output)  # Sigmoid activation\n",
    "        return output\n",
    "\n",
    "class GRUModel(nn.Module):\n",
    "    def __init__(self, vocab_size, embedding_dim=128, hidden_units=128, num_layers=2, dropout=0.3):\n",
    "        super(GRUModel, self).__init__()\n",
    "        self.embedding = nn.Embedding(vocab_size, embedding_dim)\n",
    "        self.embedding_norm = nn.LayerNorm(embedding_dim)  # LayerNorm sau Embedding\n",
    "        self.gru = nn.GRU(embedding_dim, hidden_units, num_layers=num_layers, batch_first=True, dropout=dropout if num_layers > 1 else 0)\n",
    "        self.gru_norm = nn.LayerNorm(hidden_units)  # LayerNorm sau GRU\n",
    "        self.dropout = nn.Dropout(dropout)\n",
    "        self.fc = nn.Linear(hidden_units, 1)\n",
    "        self.sigmoid = nn.Sigmoid()\n",
    "        \n",
    "    def forward(self, x):\n",
    "        x = self.embedding(x)  # Embedding layer\n",
    "        x = self.embedding_norm(x)  # LayerNorm sau Embedding\n",
    "        output, _ = self.gru(x)  # GRU layer\n",
    "        output = self.gru_norm(output[:, -1, :])  # LayerNorm sau GRU (lấy output cuối cùng)\n",
    "        output = self.dropout(output)  # Dropout\n",
    "        output = self.fc(output)  # Fully connected layer\n",
    "        output = self.sigmoid(output)  # Sigmoid activation\n",
    "        return output"
   ]
  },
  {
   "cell_type": "markdown",
   "id": "c471c74c",
   "metadata": {
    "papermill": {
     "duration": 0.003376,
     "end_time": "2025-03-25T16:14:19.370403",
     "exception": false,
     "start_time": "2025-03-25T16:14:19.367027",
     "status": "completed"
    },
    "tags": []
   },
   "source": [
    "# Train model"
   ]
  },
  {
   "cell_type": "code",
   "execution_count": 6,
   "id": "72b7740a",
   "metadata": {
    "execution": {
     "iopub.execute_input": "2025-03-25T16:14:19.378127Z",
     "iopub.status.busy": "2025-03-25T16:14:19.377916Z",
     "iopub.status.idle": "2025-03-25T16:14:19.392750Z",
     "shell.execute_reply": "2025-03-25T16:14:19.392145Z"
    },
    "papermill": {
     "duration": 0.020022,
     "end_time": "2025-03-25T16:14:19.393893",
     "exception": false,
     "start_time": "2025-03-25T16:14:19.373871",
     "status": "completed"
    },
    "tags": []
   },
   "outputs": [],
   "source": [
    "# Train function\n",
    "def train_model(model, x_train, y_train, val_data=None, epochs=10, batch_size=64, learning_rate=0.01):\n",
    "    # Define loss function and optimizer\n",
    "    criterion = nn.BCELoss()\n",
    "    optimizer = optim.Adam(model.parameters(), lr=learning_rate)\n",
    "    \n",
    "    # Use GPU if available\n",
    "    device = torch.device('cuda' if torch.cuda.is_available() else 'cpu')\n",
    "    model.to(device)\n",
    "    \n",
    "    # Create validation dataset if provided\n",
    "    if val_data:\n",
    "        x_val, y_val = val_data\n",
    "        x_val = x_val.to(device)\n",
    "        y_val = y_val.to(device)\n",
    "    \n",
    "    # Create data loader\n",
    "    train_dataset = TensorDataset(x_train, y_train)\n",
    "    train_loader = DataLoader(train_dataset, batch_size=batch_size, shuffle=True)\n",
    "    \n",
    "    # Training history\n",
    "    history = {\n",
    "        'loss': [],\n",
    "        'accuracy': [],\n",
    "        'val_loss': [],\n",
    "        'val_accuracy': []\n",
    "    }\n",
    "    \n",
    "    # Early stopping parameters\n",
    "    best_val_loss = float('inf')\n",
    "    patience = 2\n",
    "    patience_counter = 0\n",
    "    best_model_state = None\n",
    "    \n",
    "    # Training loop\n",
    "    for epoch in range(epochs):\n",
    "        model.train()\n",
    "        train_loss = 0.0\n",
    "        correct = 0\n",
    "        total = 0\n",
    "        \n",
    "        loop = tqdm(train_loader, desc=f\"Epoch {epoch+1}/{epochs}\")\n",
    "        for inputs, targets in loop:\n",
    "            inputs, targets = inputs.to(device), targets.to(device)\n",
    "            \n",
    "            # Zero gradients\n",
    "            optimizer.zero_grad()\n",
    "            \n",
    "            # Forward pass\n",
    "            outputs = model(inputs).squeeze()\n",
    "            loss = criterion(outputs, targets)\n",
    "            \n",
    "            # Backward pass and optimize\n",
    "            loss.backward()\n",
    "            optimizer.step()\n",
    "            \n",
    "            # Calculate statistics\n",
    "            train_loss += loss.item() * inputs.size(0)\n",
    "            predicted = (outputs > 0.5).float()\n",
    "            total += targets.size(0)\n",
    "            correct += (predicted == targets).sum().item()\n",
    "            \n",
    "            # Update progress bar\n",
    "            loop.set_postfix(loss=loss.item(), acc=correct/total)\n",
    "        \n",
    "        # Calculate epoch statistics\n",
    "        epoch_loss = train_loss / len(train_loader.dataset)\n",
    "        epoch_acc = correct / total\n",
    "        history['loss'].append(epoch_loss)\n",
    "        history['accuracy'].append(epoch_acc)\n",
    "        \n",
    "        # Validation\n",
    "        if val_data:\n",
    "            model.eval()\n",
    "            val_loss = 0.0\n",
    "            val_correct = 0\n",
    "            val_total = 0\n",
    "            \n",
    "            with torch.no_grad():\n",
    "                outputs = model(x_val).squeeze()\n",
    "                val_loss = criterion(outputs, y_val).item()\n",
    "                val_predicted = (outputs > 0.5).float()\n",
    "                val_correct = (val_predicted == y_val).sum().item()\n",
    "                val_total = y_val.size(0)\n",
    "            \n",
    "            val_acc = val_correct / val_total\n",
    "            history['val_loss'].append(val_loss)\n",
    "            history['val_accuracy'].append(val_acc)\n",
    "            \n",
    "            print(f\"Epoch {epoch+1}/{epochs}: loss={epoch_loss:.4f}, acc={epoch_acc:.4f}, val_loss={val_loss:.4f}, val_acc={val_acc:.4f}\")\n",
    "            \n",
    "            # # Early stopping\n",
    "            # if val_loss < best_val_loss:\n",
    "            #     best_val_loss = val_loss\n",
    "            #     patience_counter = 0\n",
    "            #     best_model_state = model.state_dict().copy()\n",
    "            # else:\n",
    "            #     patience_counter += 1\n",
    "            #     if patience_counter >= patience:\n",
    "            #         print(f\"Early stopping at epoch {epoch+1}\")\n",
    "            #         model.load_state_dict(best_model_state)\n",
    "            #         break\n",
    "        else:\n",
    "            print(f\"Epoch {epoch+1}/{epochs}: loss={epoch_loss:.4f}, acc={epoch_acc:.4f}\")\n",
    "    \n",
    "    return history\n",
    "\n",
    "# Train and evaluate model\n",
    "def train_and_evaluate(model, x_train, y_train, x_test, y_test, model_name, epochs=5, batch_size=64):\n",
    "    print(f\"\\nTraining {model_name}...\")\n",
    "    start_time = time.time()\n",
    "    \n",
    "    # Use GPU if available\n",
    "    device = torch.device('cuda' if torch.cuda.is_available() else 'cpu')\n",
    "    model.to(device)\n",
    "    \n",
    "    # Split training data for validation (10%)\n",
    "    val_size = int(len(x_train) * 0.1)\n",
    "    x_val = x_train[-val_size:].to(device)\n",
    "    y_val = y_train[-val_size:].to(device)\n",
    "    x_train = x_train[:-val_size].to(device)\n",
    "    y_train = y_train[:-val_size].to(device)\n",
    "    \n",
    "    # Train the model\n",
    "    history = train_model(\n",
    "        model, x_train, y_train, \n",
    "        val_data=(x_val, y_val),\n",
    "        epochs=epochs, \n",
    "        batch_size=batch_size\n",
    "    )\n",
    "    \n",
    "    # Calculate training time\n",
    "    training_time = time.time() - start_time\n",
    "    print(f\"{model_name} training completed in {training_time:.2f} seconds\")\n",
    "    \n",
    "    # Evaluate on test set\n",
    "    model.eval()\n",
    "    with torch.no_grad():\n",
    "        x_test = x_test.to(device)\n",
    "        y_test = y_test.to(device)\n",
    "        y_pred_proba = model(x_test).cpu().numpy()\n",
    "        y_pred = (y_pred_proba > 0.5).astype(int)\n",
    "        y_test = y_test.cpu().numpy()\n",
    "    \n",
    "    # Print metrics\n",
    "    accuracy = accuracy_score(y_test, y_pred)\n",
    "    print(f\"{model_name} Test Accuracy: {accuracy:.4f}\")\n",
    "    print(f\"\\nClassification Report for {model_name}:\")\n",
    "    print(classification_report(y_test, y_pred))\n",
    "    \n",
    "    # Plot confusion matrix\n",
    "    cm = confusion_matrix(y_test, y_pred)\n",
    "    plt.figure(figsize=(6, 6))\n",
    "    sns.heatmap(cm, annot=True, fmt='d', cmap='Blues', cbar=False,\n",
    "                xticklabels=['Negative', 'Positive'],\n",
    "                yticklabels=['Negative', 'Positive'])\n",
    "    plt.xlabel('Predicted')\n",
    "    plt.ylabel('Actual')\n",
    "    plt.title(f'Confusion Matrix - {model_name}')\n",
    "    plt.tight_layout()\n",
    "    plt.savefig(f'{model_name}_confusion_matrix.png')\n",
    "    plt.close()\n",
    "    \n",
    "    # Plot training history\n",
    "    plt.figure(figsize=(12, 5))\n",
    "    \n",
    "    plt.subplot(1, 2, 1)\n",
    "    plt.plot(history['loss'], label='Training Loss')\n",
    "    plt.plot(history['val_loss'], label='Validation Loss')\n",
    "    plt.title(f'{model_name} - Loss')\n",
    "    plt.xlabel('Epoch')\n",
    "    plt.ylabel('Loss')\n",
    "    plt.legend()\n",
    "    \n",
    "    plt.subplot(1, 2, 2)\n",
    "    plt.plot(history['accuracy'], label='Training Accuracy')\n",
    "    plt.plot(history['val_accuracy'], label='Validation Accuracy')\n",
    "    plt.title(f'{model_name} - Accuracy')\n",
    "    plt.xlabel('Epoch')\n",
    "    plt.ylabel('Accuracy')\n",
    "    plt.legend()\n",
    "    \n",
    "    plt.tight_layout()\n",
    "    plt.savefig(f'{model_name}_training_history.png')\n",
    "    plt.close()\n",
    "    \n",
    "    return {\n",
    "        'model_name': model_name,\n",
    "        'accuracy': accuracy,\n",
    "        'training_time': training_time,\n",
    "        'history': history\n",
    "    }"
   ]
  },
  {
   "cell_type": "code",
   "execution_count": 7,
   "id": "093e78b1",
   "metadata": {
    "execution": {
     "iopub.execute_input": "2025-03-25T16:14:19.402083Z",
     "iopub.status.busy": "2025-03-25T16:14:19.401880Z",
     "iopub.status.idle": "2025-03-25T16:14:19.467403Z",
     "shell.execute_reply": "2025-03-25T16:14:19.466381Z"
    },
    "papermill": {
     "duration": 0.071003,
     "end_time": "2025-03-25T16:14:19.468844",
     "exception": false,
     "start_time": "2025-03-25T16:14:19.397841",
     "status": "completed"
    },
    "tags": []
   },
   "outputs": [
    {
     "name": "stdout",
     "output_type": "stream",
     "text": [
      "\n",
      "Building models...\n"
     ]
    }
   ],
   "source": [
    "# Build models\n",
    "print(\"\\nBuilding models...\")\n",
    "vanilla_rnn = VanillaRNN(vocab_size, embedding_dim=128, hidden_units=64, num_layers=2, dropout=0.3)\n",
    "gru_model = GRUModel(vocab_size, embedding_dim=256, hidden_units=76, num_layers=2, dropout=0.3)\n",
    "lstm_model = LSTMModel(vocab_size, embedding_dim=128, hidden_units=64, num_layers=2, dropout=0.3)"
   ]
  },
  {
   "cell_type": "code",
   "execution_count": 8,
   "id": "66d6d3ee",
   "metadata": {
    "execution": {
     "iopub.execute_input": "2025-03-25T16:14:19.477346Z",
     "iopub.status.busy": "2025-03-25T16:14:19.477121Z",
     "iopub.status.idle": "2025-03-25T16:15:46.763858Z",
     "shell.execute_reply": "2025-03-25T16:15:46.762796Z"
    },
    "papermill": {
     "duration": 87.292852,
     "end_time": "2025-03-25T16:15:46.765615",
     "exception": false,
     "start_time": "2025-03-25T16:14:19.472763",
     "status": "completed"
    },
    "tags": []
   },
   "outputs": [
    {
     "name": "stdout",
     "output_type": "stream",
     "text": [
      "\n",
      "Training Vanilla RNN...\n"
     ]
    },
    {
     "name": "stderr",
     "output_type": "stream",
     "text": [
      "Epoch 1/10: 100%|██████████| 159/159 [00:01<00:00, 87.08it/s, acc=0.504, loss=0.719] \n"
     ]
    },
    {
     "name": "stdout",
     "output_type": "stream",
     "text": [
      "Epoch 1/10: loss=0.6999, acc=0.5037, val_loss=0.6938, val_acc=0.5053\n"
     ]
    },
    {
     "name": "stderr",
     "output_type": "stream",
     "text": [
      "Epoch 2/10: 100%|██████████| 159/159 [00:01<00:00, 139.35it/s, acc=0.497, loss=0.689]\n"
     ]
    },
    {
     "name": "stdout",
     "output_type": "stream",
     "text": [
      "Epoch 2/10: loss=0.6971, acc=0.4968, val_loss=0.6934, val_acc=0.5047\n"
     ]
    },
    {
     "name": "stderr",
     "output_type": "stream",
     "text": [
      "Epoch 3/10: 100%|██████████| 159/159 [00:01<00:00, 140.58it/s, acc=0.501, loss=0.709]\n"
     ]
    },
    {
     "name": "stdout",
     "output_type": "stream",
     "text": [
      "Epoch 3/10: loss=0.6974, acc=0.5005, val_loss=0.6970, val_acc=0.4951\n"
     ]
    },
    {
     "name": "stderr",
     "output_type": "stream",
     "text": [
      "Epoch 4/10: 100%|██████████| 159/159 [00:01<00:00, 137.10it/s, acc=0.501, loss=0.724]\n"
     ]
    },
    {
     "name": "stdout",
     "output_type": "stream",
     "text": [
      "Epoch 4/10: loss=0.6970, acc=0.5006, val_loss=0.6965, val_acc=0.4971\n"
     ]
    },
    {
     "name": "stderr",
     "output_type": "stream",
     "text": [
      "Epoch 5/10: 100%|██████████| 159/159 [00:01<00:00, 140.30it/s, acc=0.502, loss=0.687]\n"
     ]
    },
    {
     "name": "stdout",
     "output_type": "stream",
     "text": [
      "Epoch 5/10: loss=0.6994, acc=0.5015, val_loss=0.6940, val_acc=0.5029\n"
     ]
    },
    {
     "name": "stderr",
     "output_type": "stream",
     "text": [
      "Epoch 6/10: 100%|██████████| 159/159 [00:01<00:00, 141.39it/s, acc=0.507, loss=0.681]\n"
     ]
    },
    {
     "name": "stdout",
     "output_type": "stream",
     "text": [
      "Epoch 6/10: loss=0.6971, acc=0.5074, val_loss=0.7005, val_acc=0.4991\n"
     ]
    },
    {
     "name": "stderr",
     "output_type": "stream",
     "text": [
      "Epoch 7/10: 100%|██████████| 159/159 [00:01<00:00, 124.50it/s, acc=0.512, loss=0.687]\n"
     ]
    },
    {
     "name": "stdout",
     "output_type": "stream",
     "text": [
      "Epoch 7/10: loss=0.6959, acc=0.5116, val_loss=0.7013, val_acc=0.5093\n"
     ]
    },
    {
     "name": "stderr",
     "output_type": "stream",
     "text": [
      "Epoch 8/10: 100%|██████████| 159/159 [00:01<00:00, 140.49it/s, acc=0.523, loss=0.713]\n"
     ]
    },
    {
     "name": "stdout",
     "output_type": "stream",
     "text": [
      "Epoch 8/10: loss=0.6926, acc=0.5227, val_loss=0.6940, val_acc=0.5138\n"
     ]
    },
    {
     "name": "stderr",
     "output_type": "stream",
     "text": [
      "Epoch 9/10: 100%|██████████| 159/159 [00:01<00:00, 141.16it/s, acc=0.526, loss=0.695]\n"
     ]
    },
    {
     "name": "stdout",
     "output_type": "stream",
     "text": [
      "Epoch 9/10: loss=0.6930, acc=0.5255, val_loss=0.7005, val_acc=0.5144\n"
     ]
    },
    {
     "name": "stderr",
     "output_type": "stream",
     "text": [
      "Epoch 10/10: 100%|██████████| 159/159 [00:01<00:00, 140.12it/s, acc=0.539, loss=0.684]\n"
     ]
    },
    {
     "name": "stdout",
     "output_type": "stream",
     "text": [
      "Epoch 10/10: loss=0.6863, acc=0.5390, val_loss=0.6988, val_acc=0.5142\n",
      "Vanilla RNN training completed in 16.15 seconds\n",
      "Vanilla RNN Test Accuracy: 0.5154\n",
      "\n",
      "Classification Report for Vanilla RNN:\n",
      "              precision    recall  f1-score   support\n",
      "\n",
      "         0.0       0.51      0.84      0.64      2530\n",
      "         1.0       0.53      0.18      0.27      2470\n",
      "\n",
      "    accuracy                           0.52      5000\n",
      "   macro avg       0.52      0.51      0.45      5000\n",
      "weighted avg       0.52      0.52      0.45      5000\n",
      "\n",
      "\n",
      "Training GRU...\n"
     ]
    },
    {
     "name": "stderr",
     "output_type": "stream",
     "text": [
      "Epoch 1/10: 100%|██████████| 175/175 [00:03<00:00, 46.05it/s, acc=0.649, loss=0.283]\n"
     ]
    },
    {
     "name": "stdout",
     "output_type": "stream",
     "text": [
      "Epoch 1/10: loss=0.5830, acc=0.6493, val_loss=0.3409, val_acc=0.8504\n"
     ]
    },
    {
     "name": "stderr",
     "output_type": "stream",
     "text": [
      "Epoch 2/10: 100%|██████████| 175/175 [00:03<00:00, 46.34it/s, acc=0.88, loss=0.265]\n"
     ]
    },
    {
     "name": "stdout",
     "output_type": "stream",
     "text": [
      "Epoch 2/10: loss=0.2925, acc=0.8797, val_loss=0.2926, val_acc=0.8782\n"
     ]
    },
    {
     "name": "stderr",
     "output_type": "stream",
     "text": [
      "Epoch 3/10: 100%|██████████| 175/175 [00:03<00:00, 46.63it/s, acc=0.914, loss=0.215]\n"
     ]
    },
    {
     "name": "stdout",
     "output_type": "stream",
     "text": [
      "Epoch 3/10: loss=0.2197, acc=0.9142, val_loss=0.3363, val_acc=0.8627\n"
     ]
    },
    {
     "name": "stderr",
     "output_type": "stream",
     "text": [
      "Epoch 4/10: 100%|██████████| 175/175 [00:03<00:00, 46.60it/s, acc=0.934, loss=0.234]\n"
     ]
    },
    {
     "name": "stdout",
     "output_type": "stream",
     "text": [
      "Epoch 4/10: loss=0.1773, acc=0.9341, val_loss=0.3513, val_acc=0.8644\n"
     ]
    },
    {
     "name": "stderr",
     "output_type": "stream",
     "text": [
      "Epoch 5/10: 100%|██████████| 175/175 [00:03<00:00, 44.85it/s, acc=0.944, loss=0.212]\n"
     ]
    },
    {
     "name": "stdout",
     "output_type": "stream",
     "text": [
      "Epoch 5/10: loss=0.1514, acc=0.9445, val_loss=0.3275, val_acc=0.8707\n"
     ]
    },
    {
     "name": "stderr",
     "output_type": "stream",
     "text": [
      "Epoch 6/10: 100%|██████████| 175/175 [00:03<00:00, 46.53it/s, acc=0.946, loss=0.223]\n"
     ]
    },
    {
     "name": "stdout",
     "output_type": "stream",
     "text": [
      "Epoch 6/10: loss=0.1428, acc=0.9460, val_loss=0.3425, val_acc=0.8729\n"
     ]
    },
    {
     "name": "stderr",
     "output_type": "stream",
     "text": [
      "Epoch 7/10: 100%|██████████| 175/175 [00:03<00:00, 46.62it/s, acc=0.95, loss=0.14]\n"
     ]
    },
    {
     "name": "stdout",
     "output_type": "stream",
     "text": [
      "Epoch 7/10: loss=0.1343, acc=0.9505, val_loss=0.3622, val_acc=0.8660\n"
     ]
    },
    {
     "name": "stderr",
     "output_type": "stream",
     "text": [
      "Epoch 8/10: 100%|██████████| 175/175 [00:03<00:00, 46.82it/s, acc=0.952, loss=0.178]\n"
     ]
    },
    {
     "name": "stdout",
     "output_type": "stream",
     "text": [
      "Epoch 8/10: loss=0.1300, acc=0.9523, val_loss=0.3650, val_acc=0.8618\n"
     ]
    },
    {
     "name": "stderr",
     "output_type": "stream",
     "text": [
      "Epoch 9/10: 100%|██████████| 175/175 [00:03<00:00, 46.64it/s, acc=0.951, loss=0.156]\n"
     ]
    },
    {
     "name": "stdout",
     "output_type": "stream",
     "text": [
      "Epoch 9/10: loss=0.1310, acc=0.9511, val_loss=0.3967, val_acc=0.8618\n"
     ]
    },
    {
     "name": "stderr",
     "output_type": "stream",
     "text": [
      "Epoch 10/10: 100%|██████████| 175/175 [00:03<00:00, 46.31it/s, acc=0.95, loss=0.143]\n"
     ]
    },
    {
     "name": "stdout",
     "output_type": "stream",
     "text": [
      "Epoch 10/10: loss=0.1316, acc=0.9503, val_loss=0.3553, val_acc=0.8642\n",
      "GRU training completed in 38.75 seconds\n",
      "GRU Test Accuracy: 0.8610\n",
      "\n",
      "Classification Report for GRU:\n",
      "              precision    recall  f1-score   support\n",
      "\n",
      "         0.0       0.85      0.87      0.86      2530\n",
      "         1.0       0.87      0.85      0.86      2470\n",
      "\n",
      "    accuracy                           0.86      5000\n",
      "   macro avg       0.86      0.86      0.86      5000\n",
      "weighted avg       0.86      0.86      0.86      5000\n",
      "\n",
      "\n",
      "Training LSTM...\n"
     ]
    },
    {
     "name": "stderr",
     "output_type": "stream",
     "text": [
      "Epoch 1/10: 100%|██████████| 317/317 [00:02<00:00, 106.21it/s, acc=0.509, loss=0.717]\n"
     ]
    },
    {
     "name": "stdout",
     "output_type": "stream",
     "text": [
      "Epoch 1/10: loss=0.6956, acc=0.5094, val_loss=0.6685, val_acc=0.5798\n"
     ]
    },
    {
     "name": "stderr",
     "output_type": "stream",
     "text": [
      "Epoch 2/10: 100%|██████████| 317/317 [00:02<00:00, 106.02it/s, acc=0.547, loss=0.751]\n"
     ]
    },
    {
     "name": "stdout",
     "output_type": "stream",
     "text": [
      "Epoch 2/10: loss=0.6781, acc=0.5467, val_loss=0.7345, val_acc=0.4949\n"
     ]
    },
    {
     "name": "stderr",
     "output_type": "stream",
     "text": [
      "Epoch 3/10: 100%|██████████| 317/317 [00:02<00:00, 105.78it/s, acc=0.724, loss=0.308]\n"
     ]
    },
    {
     "name": "stdout",
     "output_type": "stream",
     "text": [
      "Epoch 3/10: loss=0.5205, acc=0.7244, val_loss=0.3801, val_acc=0.8367\n"
     ]
    },
    {
     "name": "stderr",
     "output_type": "stream",
     "text": [
      "Epoch 4/10: 100%|██████████| 317/317 [00:03<00:00, 105.26it/s, acc=0.858, loss=0.325]\n"
     ]
    },
    {
     "name": "stdout",
     "output_type": "stream",
     "text": [
      "Epoch 4/10: loss=0.3377, acc=0.8585, val_loss=0.3372, val_acc=0.8573\n"
     ]
    },
    {
     "name": "stderr",
     "output_type": "stream",
     "text": [
      "Epoch 5/10: 100%|██████████| 317/317 [00:02<00:00, 106.11it/s, acc=0.887, loss=0.407]\n"
     ]
    },
    {
     "name": "stdout",
     "output_type": "stream",
     "text": [
      "Epoch 5/10: loss=0.2806, acc=0.8870, val_loss=0.3261, val_acc=0.8591\n"
     ]
    },
    {
     "name": "stderr",
     "output_type": "stream",
     "text": [
      "Epoch 6/10: 100%|██████████| 317/317 [00:02<00:00, 106.08it/s, acc=0.91, loss=0.205]\n"
     ]
    },
    {
     "name": "stdout",
     "output_type": "stream",
     "text": [
      "Epoch 6/10: loss=0.2367, acc=0.9098, val_loss=0.3421, val_acc=0.8667\n"
     ]
    },
    {
     "name": "stderr",
     "output_type": "stream",
     "text": [
      "Epoch 7/10: 100%|██████████| 317/317 [00:02<00:00, 106.25it/s, acc=0.917, loss=0.339]\n"
     ]
    },
    {
     "name": "stdout",
     "output_type": "stream",
     "text": [
      "Epoch 7/10: loss=0.2152, acc=0.9174, val_loss=0.3258, val_acc=0.8622\n"
     ]
    },
    {
     "name": "stderr",
     "output_type": "stream",
     "text": [
      "Epoch 8/10: 100%|██████████| 317/317 [00:02<00:00, 106.16it/s, acc=0.93, loss=0.103]\n"
     ]
    },
    {
     "name": "stdout",
     "output_type": "stream",
     "text": [
      "Epoch 8/10: loss=0.1889, acc=0.9299, val_loss=0.3770, val_acc=0.8598\n"
     ]
    },
    {
     "name": "stderr",
     "output_type": "stream",
     "text": [
      "Epoch 9/10: 100%|██████████| 317/317 [00:02<00:00, 106.53it/s, acc=0.938, loss=0.183]\n"
     ]
    },
    {
     "name": "stdout",
     "output_type": "stream",
     "text": [
      "Epoch 9/10: loss=0.1699, acc=0.9376, val_loss=0.3422, val_acc=0.8640\n"
     ]
    },
    {
     "name": "stderr",
     "output_type": "stream",
     "text": [
      "Epoch 10/10: 100%|██████████| 317/317 [00:03<00:00, 104.52it/s, acc=0.944, loss=0.204]\n"
     ]
    },
    {
     "name": "stdout",
     "output_type": "stream",
     "text": [
      "Epoch 10/10: loss=0.1555, acc=0.9436, val_loss=0.3363, val_acc=0.8582\n",
      "LSTM training completed in 30.51 seconds\n",
      "LSTM Test Accuracy: 0.8628\n",
      "\n",
      "Classification Report for LSTM:\n",
      "              precision    recall  f1-score   support\n",
      "\n",
      "         0.0       0.85      0.88      0.87      2530\n",
      "         1.0       0.87      0.85      0.86      2470\n",
      "\n",
      "    accuracy                           0.86      5000\n",
      "   macro avg       0.86      0.86      0.86      5000\n",
      "weighted avg       0.86      0.86      0.86      5000\n",
      "\n"
     ]
    }
   ],
   "source": [
    "# Train and evaluate models\n",
    "results = []\n",
    "\n",
    "# Vanilla RNN\n",
    "vanilla_results = train_and_evaluate(\n",
    "    vanilla_rnn, x_train, y_train, x_test, y_test, \n",
    "    \"Vanilla RNN\", epochs = 10, batch_size = 256\n",
    ")\n",
    "results.append(vanilla_results)\n",
    "\n",
    "# GRU\n",
    "gru_results = train_and_evaluate(\n",
    "    gru_model, x_train, y_train, x_test, y_test, \n",
    "    \"GRU\", epochs = 10, batch_size = 232\n",
    ")\n",
    "results.append(gru_results)\n",
    "\n",
    "# LSTM\n",
    "lstm_results = train_and_evaluate(\n",
    "    lstm_model, x_train, y_train, x_test, y_test, \n",
    "    \"LSTM\", epochs = 10, batch_size = 128\n",
    ")\n",
    "results.append(lstm_results)"
   ]
  },
  {
   "cell_type": "markdown",
   "id": "022dc822",
   "metadata": {
    "papermill": {
     "duration": 0.32991,
     "end_time": "2025-03-25T16:15:47.473737",
     "exception": false,
     "start_time": "2025-03-25T16:15:47.143827",
     "status": "completed"
    },
    "tags": []
   },
   "source": [
    "# Compare model"
   ]
  },
  {
   "cell_type": "code",
   "execution_count": 9,
   "id": "f66dd631",
   "metadata": {
    "execution": {
     "iopub.execute_input": "2025-03-25T16:15:48.215001Z",
     "iopub.status.busy": "2025-03-25T16:15:48.214402Z",
     "iopub.status.idle": "2025-03-25T16:15:49.613187Z",
     "shell.execute_reply": "2025-03-25T16:15:49.612299Z"
    },
    "papermill": {
     "duration": 1.774548,
     "end_time": "2025-03-25T16:15:49.614578",
     "exception": false,
     "start_time": "2025-03-25T16:15:47.840030",
     "status": "completed"
    },
    "tags": []
   },
   "outputs": [
    {
     "name": "stdout",
     "output_type": "stream",
     "text": [
      "\n",
      "Model Comparison:\n",
      "         Model  Accuracy  Training Time (s)\n",
      "0  Vanilla RNN    0.5154          16.147670\n",
      "1          GRU    0.8610          38.754853\n",
      "2         LSTM    0.8628          30.511316\n"
     ]
    },
    {
     "data": {
      "image/png": "[encoded data removed]",
      "text/plain": [
       "<Figure size 1200x500 with 2 Axes>"
      ]
     },
     "metadata": {},
     "output_type": "display_data"
    },
    {
     "data": {
      "image/png": "[encoded data removed]",
      "text/plain": [
       "<Figure size 1200x1000 with 2 Axes>"
      ]
     },
     "metadata": {},
     "output_type": "display_data"
    },
    {
     "name": "stdout",
     "output_type": "stream",
     "text": [
      "\n",
      "Experiment complete!\n"
     ]
    }
   ],
   "source": [
    "# Compare models\n",
    "def compare_models(results):\n",
    "    # Extract data for comparison\n",
    "    model_names = [result['model_name'] for result in results]\n",
    "    accuracies = [result['accuracy'] for result in results]\n",
    "    training_times = [result['training_time'] for result in results]\n",
    "    \n",
    "    # Create comparison table\n",
    "    comparison_df = pd.DataFrame({\n",
    "        'Model': model_names,\n",
    "        'Accuracy': accuracies,\n",
    "        'Training Time (s)': training_times\n",
    "    })\n",
    "    print(\"\\nModel Comparison:\")\n",
    "    print(comparison_df)\n",
    "    \n",
    "    # Plot comparison\n",
    "    plt.figure(figsize=(12, 5))\n",
    "    \n",
    "    # Accuracy comparison\n",
    "    plt.subplot(1, 2, 1)\n",
    "    sns.barplot(x='Model', y='Accuracy', data=comparison_df)\n",
    "    plt.title('Model Accuracy Comparison')\n",
    "    plt.ylim(0.8, 1.0)  # Adjust as needed\n",
    "    \n",
    "    # Training time comparison\n",
    "    plt.subplot(1, 2, 2)\n",
    "    sns.barplot(x='Model', y='Training Time (s)', data=comparison_df)\n",
    "    plt.title('Model Training Time Comparison')\n",
    "    \n",
    "    plt.tight_layout()\n",
    "    plt.savefig('model_comparison.png')\n",
    "    plt.show()\n",
    "    \n",
    "    return comparison_df\n",
    "\n",
    "# Plot learning curves for all models\n",
    "def plot_learning_curves(results):\n",
    "    plt.figure(figsize=(12, 10))\n",
    "    \n",
    "    # Loss comparison\n",
    "    plt.subplot(2, 1, 1)\n",
    "    for result in results:\n",
    "        plt.plot(result['history']['val_loss'], label=f\"{result['model_name']}\")\n",
    "    plt.title('Validation Loss Comparison')\n",
    "    plt.xlabel('Epoch')\n",
    "    plt.ylabel('Loss')\n",
    "    plt.legend()\n",
    "    \n",
    "    # Accuracy comparison\n",
    "    plt.subplot(2, 1, 2)\n",
    "    for result in results:\n",
    "        plt.plot(result['history']['val_accuracy'], label=f\"{result['model_name']}\")\n",
    "    plt.title('Validation Accuracy Comparison')\n",
    "    plt.xlabel('Epoch')\n",
    "    plt.ylabel('Accuracy')\n",
    "    plt.legend()\n",
    "    \n",
    "    plt.tight_layout()\n",
    "    plt.savefig('learning_curves_comparison.png')\n",
    "    plt.show()\n",
    "\n",
    "# Compare models\n",
    "comparison = compare_models(results)\n",
    "\n",
    "# Plot learning curves\n",
    "plot_learning_curves(results)\n",
    "\n",
    "print(\"\\nExperiment complete!\")"
   ]
  },
  {
   "cell_type": "markdown",
   "id": "1709dca4",
   "metadata": {
    "papermill": {
     "duration": 0.332073,
     "end_time": "2025-03-25T16:15:50.278799",
     "exception": false,
     "start_time": "2025-03-25T16:15:49.946726",
     "status": "completed"
    },
    "tags": []
   },
   "source": [
    "# Key Observations\n",
    "\n",
    "**Accuracy Performance:**\n",
    "\n",
    "- The Vanilla RNN significantly underperforms compared to GRU and LSTM models.\n",
    "  \n",
    "- Vanilla RNNs struggle with **long-term dependencies** due to vanishing gradients, while GRUs/LSTMs use **gating mechanisms** to retain key information, achieving significantly better performance.\n",
    "\n",
    "**Training Time:**\n",
    "\n",
    "- Vanilla RNN has the shortest training time.\n",
    "  \n",
    "- GRU takes the longest to train.\n",
    "  \n",
    "- LSTM falls in between those 2 above.\n",
    "\n",
    "\n",
    "**Validation Metrics:**\n",
    "\n",
    "- The validation loss graph shows more stability for Vanilla RNN.\n",
    "- GRU and LSTM show more fluctuations but generally maintain lower loss values.\n",
    "- The validation accuracy graph reveals that GRU and LSTM quickly reach and maintain high accuracy, while Vanilla RNN remains low."
   ]
  },
  {
   "cell_type": "markdown",
   "id": "bd183786",
   "metadata": {
    "papermill": {
     "duration": 0.328806,
     "end_time": "2025-03-25T16:15:50.982053",
     "exception": false,
     "start_time": "2025-03-25T16:15:50.653247",
     "status": "completed"
    },
    "tags": []
   },
   "source": [
    "For the **IMDB movie review sentiment analysis task** (binary classification), **LSTM** is the best choice overall—it handles long-range dependencies in text effectively. **GRU** is a close second, offering similar accuracy with slightly faster training. The **Vanilla RNN** is not recommended due to poor performance with long reviews.\n",
    "\n",
    "Prioritize: **LSTM > GRU** (if speed is critical) >> **Vanilla RNN** (avoid for this task)."
   ]
  }
 ],
 "metadata": {
  "kaggle": {
   "accelerator": "gpu",
   "dataSources": [],
   "dockerImageVersionId": 30919,
   "isGpuEnabled": true,
   "isInternetEnabled": true,
   "language": "python",
   "sourceType": "notebook"
  },
  "kernelspec": {
   "display_name": "Python 3",
   "language": "python",
   "name": "python3"
  },
  "language_info": {
   "codemirror_mode": {
    "name": "ipython",
    "version": 3
   },
   "file_extension": ".py",
   "mimetype": "text/x-python",
   "name": "python",
   "nbconvert_exporter": "python",
   "pygments_lexer": "ipython3",
   "version": "3.10.12"
  },
  "papermill": {
   "default_parameters": {},
   "duration": 121.457414,
   "end_time": "2025-03-25T16:15:53.032861",
   "environment_variables": {},
   "exception": null,
   "input_path": "__notebook__.ipynb",
   "output_path": "__notebook__.ipynb",
   "parameters": {},
   "start_time": "2025-03-25T16:13:51.575447",
   "version": "2.6.0"
  }
 },
 "nbformat": 4,
 "nbformat_minor": 5
}
