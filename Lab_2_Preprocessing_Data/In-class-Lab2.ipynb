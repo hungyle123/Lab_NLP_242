{
 "cells": [
  {
   "cell_type": "markdown",
   "metadata": {
    "id": "1scE5rBNAR2G"
   },
   "source": [
    "# In-class Lab 2: Text Data Preprocessing\n",
    "**Overview:** In this lesson, we will build a text preprocessing pipeline for English text, which includes: data cleaning, converting to lowercase, removing punctuation, tokenization, removing stop words, and stemming. The exercise requires knowledge and programming skills in Python using libraries such as string, re, nltk, and numpy.\n",
    "    "
   ]
  },
  {
   "cell_type": "markdown",
   "metadata": {
    "id": "-G8XZPuMAR2T"
   },
   "source": [
    "### Import Libraries"
   ]
  },
  {
   "cell_type": "code",
   "execution_count": 4,
   "metadata": {
    "id": "8ijK-PShAR2V"
   },
   "outputs": [],
   "source": [
    "import string # used for preprocessing\n",
    "import re # used for preprocessing\n",
    "import nltk # the Natural Language Toolkit, used for preprocessing\n",
    "import numpy as np # used for managing NaNs\n",
    "import nltk\n",
    "from nltk.tokenize import word_tokenize\n",
    "from nltk.corpus import stopwords # used for preprocessing\n",
    "from nltk.stem import WordNetLemmatizer # used for preprocessing\n",
    "#nltk.download('stopwords')"
   ]
  },
  {
   "cell_type": "markdown",
   "metadata": {
    "id": "U0DQgAkWAR2W"
   },
   "source": [
    "## Question 1: Exploring the Dataset\n",
    "\n",
    "The raw text data that needs preprocessing is in the file \"wiki.txt\". This file contains short documents (docs), with each document on a separate line. In this question, we will explore the following:\n",
    "\n",
    "- The number of docs in the corpus\n",
    "- Observing a few docs from the corpus\n"
   ]
  },
  {
   "cell_type": "code",
   "execution_count": 9,
   "metadata": {
    "id": "GsbV9GSEAR2X",
    "outputId": "e5590b0b-38c0-4f34-bd1b-b202ded3338d"
   },
   "outputs": [],
   "source": [
    "#### YOUR CODE HERE ####\n",
    "\n",
    "\n",
    "#### END YOUR CODE #####"
   ]
  },
  {
   "cell_type": "markdown",
   "metadata": {},
   "source": [
    "## Question 2: Building Text Processing Functions"
   ]
  },
  {
   "cell_type": "markdown",
   "metadata": {
    "id": "s6I8R30NAR2c"
   },
   "source": [
    "### Question 2.1: Building a Data Cleaning Function\n",
    "\n",
    "**Description:** The function removes digits and keeps only the characters \"A-Za-z(),!?\\'\\`\".\n"
   ]
  },
  {
   "cell_type": "code",
   "execution_count": 10,
   "metadata": {
    "id": "80LZzOxCAR2d"
   },
   "outputs": [],
   "source": [
    "# clean text\n",
    "def clean_text(text):\n",
    "    #### YOUR CODE HERE ####\n",
    "    pass\n",
    "    #### END YOUR CODE #####"
   ]
  },
  {
   "cell_type": "markdown",
   "metadata": {
    "id": "cLyDqwtcAR2d"
   },
   "source": [
    "### Question 2.2: Function to Convert Text to Lowercase"
   ]
  },
  {
   "cell_type": "code",
   "execution_count": 11,
   "metadata": {
    "id": "v5N6q83DAR2e"
   },
   "outputs": [],
   "source": [
    "# make all text lowercase\n",
    "#### YOUR CODE HERE ####\n",
    "def text_lowercase(text):\n",
    "    pass\n",
    "#### END YOUR CODE #####"
   ]
  },
  {
   "cell_type": "markdown",
   "metadata": {
    "id": "Vkzajg44AR2e"
   },
   "source": [
    "### Question 2.3: Building a Function to Remove Punctuation"
   ]
  },
  {
   "cell_type": "code",
   "execution_count": 12,
   "metadata": {
    "id": "lLFWvQRLAR2f"
   },
   "outputs": [],
   "source": [
    "# remove punctuation\n",
    "def remove_punctuation(text):\n",
    "    #### YOUR CODE HERE ####\n",
    "    pass \n",
    "    #### END YOUR CODE #####"
   ]
  },
  {
   "cell_type": "markdown",
   "metadata": {
    "id": "I_ocSyA9AR2f"
   },
   "source": [
    "### Question 2.4: Tokenization"
   ]
  },
  {
   "cell_type": "code",
   "execution_count": 13,
   "metadata": {
    "id": "ru8lNWuDAR2g"
   },
   "outputs": [],
   "source": [
    "# tokenize\n",
    "def tokenize(text):\n",
    "    #### YOUR CODE HERE ####    \n",
    "    pass\n",
    "    #### END YOUR CODE #####"
   ]
  },
  {
   "cell_type": "markdown",
   "metadata": {
    "id": "9L8rJildAR2g"
   },
   "source": [
    "### Question 2.5: Removing Stopwords\n",
    "\n",
    "\n",
    "\n",
    "\n",
    "\n"
   ]
  },
  {
   "cell_type": "code",
   "execution_count": null,
   "metadata": {
    "id": "-03fXud4AR2h"
   },
   "outputs": [],
   "source": [
    "# remove stopwords\n",
    "stop_words = set(stopwords.words('english'))\n",
    "#### YOUR CODE HERE ####\n",
    "def remove_stopwords(text):\n",
    "    pass\n",
    "#### END YOUR CODE #####"
   ]
  },
  {
   "cell_type": "markdown",
   "metadata": {
    "id": "DVXH3PorAR2h"
   },
   "source": [
    "### Question 2.6: Building a Lemmatization Function\n",
    "\n",
    "\n",
    "\n",
    "\n",
    "\n"
   ]
  },
  {
   "cell_type": "code",
   "execution_count": null,
   "metadata": {
    "id": "hNb3hemPAR2i"
   },
   "outputs": [],
   "source": [
    "# lemmatize\n",
    "lemmatizer = WordNetLemmatizer()\n",
    "#### YOUR CODE HERE ####\n",
    "def lemmatize(text):\n",
    "    pass \n",
    "#### END YOUR CODE #####"
   ]
  },
  {
   "cell_type": "markdown",
   "metadata": {
    "id": "2pr3h3J4AR2i"
   },
   "source": [
    "### Question 2.7: Building a Preprocessing Function\n",
    "**Hint:** This function will call the functions written above."
   ]
  },
  {
   "cell_type": "code",
   "execution_count": null,
   "metadata": {
    "id": "lpM1j8v9AR2i"
   },
   "outputs": [],
   "source": [
    "\n",
    "def preprocessing(text):\n",
    "#### YOUR CODE HERE ####\n",
    "    pass \n",
    "\n",
    "#### END YOUR CODE #####"
   ]
  },
  {
   "cell_type": "markdown",
   "metadata": {
    "id": "mQJicZUrAR2j"
   },
   "source": [
    "## Question 3: Preprocessing for Input Text\n",
    "**Overview:** Using the functions above, preprocess the initial text."
   ]
  },
  {
   "cell_type": "code",
   "execution_count": 14,
   "metadata": {
    "id": "tSWwb3gsAR2j",
    "outputId": "5e0d91f7-f4cb-4998-e890-c38bb064377b"
   },
   "outputs": [],
   "source": [
    "#### YOUR CODE HERE ####"
   ]
  }
 ],
 "metadata": {
  "colab": {
   "provenance": []
  },
  "kernelspec": {
   "display_name": "labNLP",
   "language": "python",
   "name": "python3"
  },
  "language_info": {
   "codemirror_mode": {
    "name": "ipython",
    "version": 3
   },
   "file_extension": ".py",
   "mimetype": "text/x-python",
   "name": "python",
   "nbconvert_exporter": "python",
   "pygments_lexer": "ipython3",
   "version": "3.11.11"
  }
 },
 "nbformat": 4,
 "nbformat_minor": 0
}
